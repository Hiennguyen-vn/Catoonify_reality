{
 "cells": [
  {
   "cell_type": "markdown",
   "metadata": {},
   "source": [
    "<div id=\"WEEK 1 REPORT\">\n",
    "    <h2>Week 1 Report</h2>\n",
    "    <div class=\"alert alert-block alert-info\" style=\"margin-top: 20px\">\n",
    "        <ol>\n",
    "            <li><a href=\"#\">Ảnh được biểu diễn như thế nào</a></li>\n",
    "            <li><a href=\"#\">Chuyển ảnh màu về ảnh xám, chuyển ảnh xám về ảnh nhị phân</a></li>\n",
    "            <li><a href=\"#\">Phương pháp xử lý ảnh để detect cạnh</a></li>\n",
    "        </ol>\n",
    "    </div>\n",
    "</div>\n",
    "\n"
   ]
  },
  {
   "cell_type": "markdown",
   "metadata": {
    "vscode": {
     "languageId": "plaintext"
    }
   },
   "source": [
    "# 1. Biểu diễn ảnh số\n",
    "\n",
    "Ảnh màu được biểu diễn bằng **3 ma trận riêng biệt** tương ứng với 3 kênh màu:\n",
    "\n",
    "- **Kênh đỏ (Red channel)**\n",
    "- **Kênh lục (Green channel)**\n",
    "- **Kênh lam (Blue channel)**\n",
    "\n",
    "Mỗi pixel trong ảnh màu có giá trị **(r, g, b)** với phạm vi từ **0-255** cho mỗi kênh.  \n"
   ]
  },
  {
   "cell_type": "code",
   "execution_count": null,
   "metadata": {},
   "outputs": [],
   "source": [
    "w_ij = (r_ij, g_ij, b_ij)"
   ]
  },
  {
   "cell_type": "markdown",
   "metadata": {},
   "source": [
    "# 2. Chuyển đổi ảnh màu sang ảnh xám\n",
    "\n",
    "Sử dụng công thức trọng số :\n"
   ]
  },
  {
   "cell_type": "code",
   "execution_count": null,
   "metadata": {},
   "outputs": [],
   "source": [
    "Độ sáng = 0.2989*R + 0.5870*G + 0.1140*B"
   ]
  },
  {
   "cell_type": "markdown",
   "metadata": {},
   "source": [
    "Chuyển ảnh xám về ảnh nhị phân là một quá trình quan trọng trong xử lý ảnh, thường được thực hiện bằng cách áp dụng kĩ thuật ngưỡng(thresholding).\n",
    "2.1 Thresholding Cố Định\n",
    "Phương pháp này sử dụng một ngưỡng cố định cho toàn bộ ảnh. Các pixel có giá trị lớn hơn ngưỡng sẽ được gán giá trị 255 (đen), còn lại sẽ là 0 (trắng).\n",
    "\n",
    "2.2 Thresholding Động\n",
    "Phương pháp này tính toán ngưỡng cho từng vùng của ảnh, giúp xử lý tốt hơn với các ảnh có độ sáng không đồng đều."
   ]
  },
  {
   "cell_type": "code",
   "execution_count": 10,
   "metadata": {},
   "outputs": [
    {
     "ename": "AssertionError",
     "evalue": "[USAGE] $ python color2binary.py img_5.jpg",
     "output_type": "error",
     "traceback": [
      "\u001b[0;31m---------------------------------------------------------------------------\u001b[0m",
      "\u001b[0;31mAssertionError\u001b[0m                            Traceback (most recent call last)",
      "Cell \u001b[0;32mIn[10], line 9\u001b[0m\n\u001b[1;32m      6\u001b[0m     \u001b[38;5;28;01mreturn\u001b[39;00m img_binary\n\u001b[1;32m      8\u001b[0m \u001b[38;5;28;01mif\u001b[39;00m \u001b[38;5;18m__name__\u001b[39m \u001b[38;5;241m==\u001b[39m \u001b[38;5;124m\"\u001b[39m\u001b[38;5;124m__main__\u001b[39m\u001b[38;5;124m\"\u001b[39m:\n\u001b[0;32m----> 9\u001b[0m     \u001b[38;5;28;01massert\u001b[39;00m \u001b[38;5;28mlen\u001b[39m(sys\u001b[38;5;241m.\u001b[39margv) \u001b[38;5;241m==\u001b[39m \u001b[38;5;241m2\u001b[39m, \u001b[38;5;124m'\u001b[39m\u001b[38;5;124m[USAGE] $ python color2binary.py img_5.jpg\u001b[39m\u001b[38;5;124m'\u001b[39m\n\u001b[1;32m     10\u001b[0m     input_image_path \u001b[38;5;241m=\u001b[39m sys\u001b[38;5;241m.\u001b[39margv[\u001b[38;5;241m1\u001b[39m]\n\u001b[1;32m     12\u001b[0m     \u001b[38;5;28;01massert\u001b[39;00m os\u001b[38;5;241m.\u001b[39mpath\u001b[38;5;241m.\u001b[39misfile(input_image_path), \u001b[38;5;124m'\u001b[39m\u001b[38;5;124mImage not found @ \u001b[39m\u001b[38;5;132;01m%s\u001b[39;00m\u001b[38;5;124m'\u001b[39m \u001b[38;5;241m%\u001b[39m input_image_path\n",
      "\u001b[0;31mAssertionError\u001b[0m: [USAGE] $ python color2binary.py img_5.jpg"
     ]
    }
   ],
   "source": [
    "import os, sys\n",
    "import cv2\n",
    "\n",
    "def convert_to_binary(img_grayscale, thresh=100):\n",
    "    thresh, img_binary = cv2.threshold(img_grayscale, thresh, maxval=255, type=cv2.THRESH_BINARY)\n",
    "    return img_binary\n",
    "\n",
    "if __name__ == \"__main__\":\n",
    "    assert len(sys.argv) == 2, '[USAGE] $ python color2binary.py img_5.jpg'\n",
    "    input_image_path = sys.argv[1]\n",
    "    \n",
    "    assert os.path.isfile(input_image_path), 'Image not found @ %s' % input_image_path\n",
    "    \n",
    "    # read color image with grayscale flag: \"cv2.IMREAD_GRAYSCALE\"\n",
    "    img_grayscale = cv2.imread(input_image_path, cv2.IMREAD_GRAYSCALE)       # shape: (960, 960)\n",
    "    # print grayscale image\n",
    "    cv2.imwrite('grey_%s' % input_image_path, img_grayscale)\n",
    "    print('Saved grayscale image @ grey_%s' % input_image_path)\n",
    "    \n",
    "    img_binary = convert_to_binary(img_grayscale, thresh=100)\n",
    "    cv2.imwrite('binary_%s' % input_image_path, img_binary)\n",
    "    print('Saved binary image @ binary_%s' % input_image_path)\n",
    "\n",
    "\n",
    "\n"
   ]
  },
  {
   "cell_type": "markdown",
   "metadata": {},
   "source": []
  },
  {
   "cell_type": "code",
   "execution_count": null,
   "metadata": {},
   "outputs": [],
   "source": []
  }
 ],
 "metadata": {
  "kernelspec": {
   "display_name": "Python 3 (ipykernel)",
   "language": "python",
   "name": "python3"
  },
  "language_info": {
   "codemirror_mode": {
    "name": "ipython",
    "version": 3
   },
   "file_extension": ".py",
   "mimetype": "text/x-python",
   "name": "python",
   "nbconvert_exporter": "python",
   "pygments_lexer": "ipython3",
   "version": "3.10.12"
  }
 },
 "nbformat": 4,
 "nbformat_minor": 4
}
